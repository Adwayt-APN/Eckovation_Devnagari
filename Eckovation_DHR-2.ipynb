{
 "cells": [
  {
   "cell_type": "code",
   "execution_count": 1,
   "metadata": {},
   "outputs": [
    {
     "name": "stderr",
     "output_type": "stream",
     "text": [
      "Using TensorFlow backend.\n"
     ]
    }
   ],
   "source": [
    "import cv2\n",
    "from keras.models import load_model\n",
    "import numpy as np\n",
    "from collections import deque"
   ]
  },
  {
   "cell_type": "code",
   "execution_count": 2,
   "metadata": {},
   "outputs": [],
   "source": [
    "model1 = load_model('E:/Datasets/DHCD/devnagri_model.h5')"
   ]
  },
  {
   "cell_type": "code",
   "execution_count": 3,
   "metadata": {},
   "outputs": [
    {
     "name": "stdout",
     "output_type": "stream",
     "text": [
      "<keras.engine.sequential.Sequential object at 0x000001F519285B00>\n"
     ]
    }
   ],
   "source": [
    "print(model1)"
   ]
  },
  {
   "cell_type": "code",
   "execution_count": 4,
   "metadata": {},
   "outputs": [],
   "source": [
    "letter_count = {0: 'CHECK', 1: '1ka', 2: '2kha', 3: '3ga', 4: '4gha', 5: '5kna', 6: '6cha', 7: '7chha', 8: '8ja', 9: '9jha', 10: '10yna', 11: '11ta', 12: '12thaa', 13: '13daa', 14: '14dhaa', 15: '15adna', 16: '16tha', 17: '17thha', 18: '18da', 19: '19dha', 20: '20na', 21: '21pa', 22: '22pha', 23: '23ba', 24: '24bha', 25: '25ma', 26: '26yaw', 27: '27ra', 28: '28la', 29: '29waw', 30: '30shea', 31: 'ksha', 32: '32sa', 33: '33ha', 34: '34chhya', 35: '35tra', 36: '36gya', 37: 'CHECK'}"
   ]
  },
  {
   "cell_type": "code",
   "execution_count": null,
   "metadata": {},
   "outputs": [],
   "source": [
    "def keras_predict(model, image):\n",
    "    processed = keras_process_image(image)\n",
    "    print(\"shape: \" + str(processed.shape))\n",
    "    pred_probab = model.predict(processed)[0]\n",
    "    pred_class = list(pred_probab).index(max(pred_probab))\n",
    "    return max(pred_probab), pred_class\n",
    "\n",
    "def keras_process_image(img):\n",
    "    image_x = 32\n",
    "    image_y = 32\n",
    "    \n",
    "    img = cv2.resize(img, (image_x, image_y))\n",
    "    img = np.array(img, dtype = np.float32)\n",
    "    img = np.reshape(img, (-1, image_x, image_y, 1))\n",
    "    return img"
   ]
  },
  {
   "cell_type": "code",
   "execution_count": null,
   "metadata": {},
   "outputs": [
    {
     "name": "stdout",
     "output_type": "stream",
     "text": [
      "5222.0\n",
      "shape: (1, 32, 32, 1)\n",
      "27 1.0\n",
      "467.0\n",
      "949.5\n",
      "878.0\n",
      "1390.0\n",
      "71.0\n",
      "336.5\n",
      "1491.5\n",
      "872.0\n",
      "731.0\n",
      "438.0\n",
      "199.0\n",
      "517.0\n",
      "857.5\n",
      "720.0\n",
      "2050.5\n",
      "shape: (1, 32, 32, 1)\n",
      "15 1.0\n",
      "759.0\n",
      "1196.0\n",
      "480.0\n",
      "1178.0\n",
      "2428.5\n",
      "shape: (1, 32, 32, 1)\n",
      "34 1.0\n",
      "3384.5\n",
      "shape: (1, 32, 32, 1)\n",
      "20 1.0\n",
      "678.0\n",
      "5567.0\n",
      "shape: (1, 32, 32, 1)\n",
      "34 1.0\n",
      "307.0\n",
      "6610.5\n",
      "shape: (1, 32, 32, 1)\n",
      "9 1.0\n",
      "1359.0\n",
      "746.5\n",
      "12205.0\n",
      "shape: (1, 32, 32, 1)\n",
      "34 1.0\n",
      "890.0\n",
      "11736.5\n",
      "shape: (1, 32, 32, 1)\n",
      "34 1.0\n",
      "4698.0\n",
      "shape: (1, 32, 32, 1)\n",
      "4 1.0\n",
      "11647.0\n",
      "shape: (1, 32, 32, 1)\n",
      "17 1.0\n",
      "41.0\n"
     ]
    }
   ],
   "source": [
    "cap = cv2.VideoCapture(0)\n",
    "Lower_green = np.array([110, 50, 50])\n",
    "Upper_green = np.array([130, 255, 255])\n",
    "pred_class=0\n",
    "pts = deque(maxlen=512)\n",
    "blackboard = np.zeros((480, 640, 3), dtype=np.uint8)\n",
    "digit = np.zeros((200, 200, 3), dtype=np.uint8)\n",
    "\n",
    "while (cap.isOpened()):\n",
    "    ret, img = cap.read()\n",
    "    img = cv2.flip(img, 1)\n",
    "    imgHSV = cv2.cvtColor(img, cv2.COLOR_BGR2HSV)\n",
    "    mask = cv2.inRange(imgHSV, Lower_green, Upper_green)\n",
    "    blur = cv2.medianBlur(mask, 15)\n",
    "    blur = cv2.GaussianBlur(blur, (5, 5), 0)\n",
    "    thresh = cv2.threshold(blur, 0, 255, cv2.THRESH_BINARY + cv2.THRESH_OTSU)[1]\n",
    "    cnts = cv2.findContours(thresh.copy(), cv2.RETR_TREE, cv2.CHAIN_APPROX_NONE)[1]\n",
    "    center = None\n",
    "        \n",
    "    if len(cnts) >= 1:\n",
    "        contour = max(cnts, key=cv2.contourArea)\n",
    "        if cv2.contourArea(contour) > 250:\n",
    "            ((x, y), radius) = cv2.minEnclosingCircle(contour)\n",
    "            cv2.circle(img, (int(x), int(y)), int(radius), (0, 255, 255), 2)\n",
    "            cv2.circle(img, center, 5, (0, 0, 255), -1)\n",
    "            M = cv2.moments(contour)\n",
    "            center = (int(M['m10'] / M['m00']), int(M['m01'] / M['m00']))\n",
    "            pts.appendleft(center)\n",
    "\n",
    "            for i in range(1, len(pts)):\n",
    "                if pts[i - 1] is None or pts[i] is None:\n",
    "                    continue\n",
    "                    \n",
    "                cv2.line(blackboard, pts[i - 1], pts[i], (255, 255, 255), 10)\n",
    "                cv2.line(img, pts[i - 1], pts[i], (0, 0, 255), 5)\n",
    "\n",
    "    elif len(cnts) == 0:\n",
    "\n",
    "        if len(pts) != []:\n",
    "            blackboard_gray = cv2.cvtColor(blackboard, cv2.COLOR_BGR2GRAY)\n",
    "            blur1 = cv2.medianBlur(blackboard_gray, 15)\n",
    "            blur1 = cv2.GaussianBlur(blur1, (5, 5), 0)\n",
    "            thresh1 = cv2.threshold(blur1, 0, 255, cv2.THRESH_BINARY + cv2.THRESH_OTSU)[1]\n",
    "            blackboard_cnts = cv2.findContours(thresh1.copy(), cv2.RETR_TREE, cv2.CHAIN_APPROX_NONE)[1]\n",
    "\n",
    "            if len(blackboard_cnts) >= 1:\n",
    "                cnt = max(blackboard_cnts, key=cv2.contourArea)\n",
    "                print(cv2.contourArea(cnt))\n",
    "\n",
    "                if cv2.contourArea(cnt) > 2000:\n",
    "                    x, y, w, h = cv2.boundingRect(cnt)\n",
    "                    digit = blackboard_gray[y:y + h, x:x + w]\n",
    "                    # newImage = process_letter(digit)\n",
    "                    pred_probab, pred_class = keras_predict(model1, digit)\n",
    "\n",
    "                    print(pred_class, pred_probab)\n",
    "\n",
    "                    \n",
    "            pts = deque(maxlen=512)\n",
    "            blackboard = np.zeros((480, 640, 3), dtype=np.uint8)\n",
    "\n",
    "        cv2.putText(img, \"Conv Network :  \" + str(letter_count[pred_class]), (10, 470),\n",
    "        cv2.FONT_HERSHEY_SIMPLEX, 0.7, (0, 0, 255), 2)\n",
    "        cv2.imshow(\"Frame\", img)\n",
    "        cv2.imshow(\"Contours\", thresh)\n",
    "\n",
    "        k = cv2.waitKey(10)\n",
    "        if k == 27:\n",
    "            break"
   ]
  },
  {
   "cell_type": "code",
   "execution_count": null,
   "metadata": {},
   "outputs": [],
   "source": [
    "import cv2\n",
    "cv2.__version__"
   ]
  },
  {
   "cell_type": "code",
   "execution_count": null,
   "metadata": {},
   "outputs": [],
   "source": []
  }
 ],
 "metadata": {
  "kernelspec": {
   "display_name": "Python 3",
   "language": "python",
   "name": "python3"
  },
  "language_info": {
   "codemirror_mode": {
    "name": "ipython",
    "version": 3
   },
   "file_extension": ".py",
   "mimetype": "text/x-python",
   "name": "python",
   "nbconvert_exporter": "python",
   "pygments_lexer": "ipython3",
   "version": "3.5.6"
  }
 },
 "nbformat": 4,
 "nbformat_minor": 2
}
